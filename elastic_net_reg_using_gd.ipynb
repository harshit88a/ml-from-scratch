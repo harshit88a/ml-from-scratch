{
 "cells": [
  {
   "cell_type": "markdown",
   "metadata": {},
   "source": [
    "## Part IV: Elastic Net Regression using Gradient Descent\n",
    "\n",
    "1. Import Libraries and read dataset"
   ]
  },
  {
   "cell_type": "code",
   "execution_count": 1,
   "metadata": {},
   "outputs": [],
   "source": [
    "import numpy as np \n",
    "import pandas as pd \n",
    "import matplotlib.pyplot as plt\n",
    "import pickle"
   ]
  },
  {
   "cell_type": "code",
   "execution_count": 2,
   "metadata": {},
   "outputs": [],
   "source": [
    "emission_data = pd.read_csv('./preprocessed/emissions_preprocessed.csv')"
   ]
  },
  {
   "cell_type": "code",
   "execution_count": 3,
   "metadata": {},
   "outputs": [
    {
     "data": {
      "text/html": [
       "<div>\n",
       "<style scoped>\n",
       "    .dataframe tbody tr th:only-of-type {\n",
       "        vertical-align: middle;\n",
       "    }\n",
       "\n",
       "    .dataframe tbody tr th {\n",
       "        vertical-align: top;\n",
       "    }\n",
       "\n",
       "    .dataframe thead th {\n",
       "        text-align: right;\n",
       "    }\n",
       "</style>\n",
       "<table border=\"1\" class=\"dataframe\">\n",
       "  <thead>\n",
       "    <tr style=\"text-align: right;\">\n",
       "      <th></th>\n",
       "      <th>Country</th>\n",
       "      <th>Year</th>\n",
       "      <th>Total</th>\n",
       "      <th>Coal</th>\n",
       "      <th>Oil</th>\n",
       "      <th>Gas</th>\n",
       "      <th>Cement</th>\n",
       "      <th>Flaring</th>\n",
       "      <th>Per Capita</th>\n",
       "    </tr>\n",
       "  </thead>\n",
       "  <tbody>\n",
       "    <tr>\n",
       "      <th>0</th>\n",
       "      <td>afghanistan</td>\n",
       "      <td>1990.0</td>\n",
       "      <td>2.024326</td>\n",
       "      <td>0.278464</td>\n",
       "      <td>1.271408</td>\n",
       "      <td>0.403040</td>\n",
       "      <td>0.045766</td>\n",
       "      <td>0.025648</td>\n",
       "      <td>0.189281</td>\n",
       "    </tr>\n",
       "    <tr>\n",
       "      <th>1</th>\n",
       "      <td>afghanistan</td>\n",
       "      <td>1991.0</td>\n",
       "      <td>1.914301</td>\n",
       "      <td>0.249627</td>\n",
       "      <td>1.204085</td>\n",
       "      <td>0.389125</td>\n",
       "      <td>0.045766</td>\n",
       "      <td>0.025697</td>\n",
       "      <td>0.178155</td>\n",
       "    </tr>\n",
       "    <tr>\n",
       "      <th>2</th>\n",
       "      <td>afghanistan</td>\n",
       "      <td>1992.0</td>\n",
       "      <td>1.482054</td>\n",
       "      <td>0.021984</td>\n",
       "      <td>1.029584</td>\n",
       "      <td>0.362736</td>\n",
       "      <td>0.045766</td>\n",
       "      <td>0.021984</td>\n",
       "      <td>0.122916</td>\n",
       "    </tr>\n",
       "    <tr>\n",
       "      <th>3</th>\n",
       "      <td>afghanistan</td>\n",
       "      <td>1993.0</td>\n",
       "      <td>1.486943</td>\n",
       "      <td>0.018320</td>\n",
       "      <td>1.047904</td>\n",
       "      <td>0.298744</td>\n",
       "      <td>0.035550</td>\n",
       "      <td>1251.000000</td>\n",
       "      <td>0.106182</td>\n",
       "    </tr>\n",
       "    <tr>\n",
       "      <th>4</th>\n",
       "      <td>afghanistan</td>\n",
       "      <td>1994.0</td>\n",
       "      <td>1.453829</td>\n",
       "      <td>0.014693</td>\n",
       "      <td>1.032171</td>\n",
       "      <td>0.337935</td>\n",
       "      <td>0.046991</td>\n",
       "      <td>0.022039</td>\n",
       "      <td>0.094065</td>\n",
       "    </tr>\n",
       "    <tr>\n",
       "      <th>...</th>\n",
       "      <td>...</td>\n",
       "      <td>...</td>\n",
       "      <td>...</td>\n",
       "      <td>...</td>\n",
       "      <td>...</td>\n",
       "      <td>...</td>\n",
       "      <td>...</td>\n",
       "      <td>...</td>\n",
       "      <td>...</td>\n",
       "    </tr>\n",
       "    <tr>\n",
       "      <th>3081</th>\n",
       "      <td>global</td>\n",
       "      <td>2017.0</td>\n",
       "      <td>36096.739276</td>\n",
       "      <td>14506.973805</td>\n",
       "      <td>12242.627935</td>\n",
       "      <td>7144.928128</td>\n",
       "      <td>1507.923185</td>\n",
       "      <td>391.992176</td>\n",
       "      <td>4.749682</td>\n",
       "    </tr>\n",
       "    <tr>\n",
       "      <th>3082</th>\n",
       "      <td>global</td>\n",
       "      <td>2018.0</td>\n",
       "      <td>36826.506600</td>\n",
       "      <td>14746.830688</td>\n",
       "      <td>12266.016285</td>\n",
       "      <td>7529.846784</td>\n",
       "      <td>1569.218392</td>\n",
       "      <td>412.115746</td>\n",
       "      <td>4.792753</td>\n",
       "    </tr>\n",
       "    <tr>\n",
       "      <th>3083</th>\n",
       "      <td>global</td>\n",
       "      <td>2019.0</td>\n",
       "      <td>37082.558969</td>\n",
       "      <td>14725.978025</td>\n",
       "      <td>12345.653374</td>\n",
       "      <td>7647.528220</td>\n",
       "      <td>1617.506786</td>\n",
       "      <td>439.253991</td>\n",
       "      <td>4.775633</td>\n",
       "    </tr>\n",
       "    <tr>\n",
       "      <th>3084</th>\n",
       "      <td>global</td>\n",
       "      <td>2020.0</td>\n",
       "      <td>35264.085734</td>\n",
       "      <td>14174.564010</td>\n",
       "      <td>11191.808551</td>\n",
       "      <td>7556.290283</td>\n",
       "      <td>1637.537532</td>\n",
       "      <td>407.583673</td>\n",
       "      <td>4.497423</td>\n",
       "    </tr>\n",
       "    <tr>\n",
       "      <th>3085</th>\n",
       "      <td>global</td>\n",
       "      <td>2021.0</td>\n",
       "      <td>37123.850352</td>\n",
       "      <td>14979.598083</td>\n",
       "      <td>11837.159116</td>\n",
       "      <td>7921.829472</td>\n",
       "      <td>1672.592372</td>\n",
       "      <td>416.525563</td>\n",
       "      <td>4.693699</td>\n",
       "    </tr>\n",
       "  </tbody>\n",
       "</table>\n",
       "<p>3086 rows × 9 columns</p>\n",
       "</div>"
      ],
      "text/plain": [
       "          Country    Year         Total          Coal           Oil  \\\n",
       "0     afghanistan  1990.0      2.024326      0.278464      1.271408   \n",
       "1     afghanistan  1991.0      1.914301      0.249627      1.204085   \n",
       "2     afghanistan  1992.0      1.482054      0.021984      1.029584   \n",
       "3     afghanistan  1993.0      1.486943      0.018320      1.047904   \n",
       "4     afghanistan  1994.0      1.453829      0.014693      1.032171   \n",
       "...           ...     ...           ...           ...           ...   \n",
       "3081       global  2017.0  36096.739276  14506.973805  12242.627935   \n",
       "3082       global  2018.0  36826.506600  14746.830688  12266.016285   \n",
       "3083       global  2019.0  37082.558969  14725.978025  12345.653374   \n",
       "3084       global  2020.0  35264.085734  14174.564010  11191.808551   \n",
       "3085       global  2021.0  37123.850352  14979.598083  11837.159116   \n",
       "\n",
       "              Gas       Cement      Flaring  Per Capita  \n",
       "0        0.403040     0.045766     0.025648    0.189281  \n",
       "1        0.389125     0.045766     0.025697    0.178155  \n",
       "2        0.362736     0.045766     0.021984    0.122916  \n",
       "3        0.298744     0.035550  1251.000000    0.106182  \n",
       "4        0.337935     0.046991     0.022039    0.094065  \n",
       "...           ...          ...          ...         ...  \n",
       "3081  7144.928128  1507.923185   391.992176    4.749682  \n",
       "3082  7529.846784  1569.218392   412.115746    4.792753  \n",
       "3083  7647.528220  1617.506786   439.253991    4.775633  \n",
       "3084  7556.290283  1637.537532   407.583673    4.497423  \n",
       "3085  7921.829472  1672.592372   416.525563    4.693699  \n",
       "\n",
       "[3086 rows x 9 columns]"
      ]
     },
     "execution_count": 3,
     "metadata": {},
     "output_type": "execute_result"
    }
   ],
   "source": [
    "emission_data"
   ]
  },
  {
   "cell_type": "markdown",
   "metadata": {},
   "source": [
    "2. Data Analysis and Preprocessing"
   ]
  },
  {
   "cell_type": "code",
   "execution_count": 4,
   "metadata": {},
   "outputs": [],
   "source": [
    "# Drop rows where Country = 'global' - not required in this case\n",
    "emission_data = emission_data[emission_data['Country'] != 'global']"
   ]
  },
  {
   "cell_type": "code",
   "execution_count": 5,
   "metadata": {},
   "outputs": [
    {
     "name": "stdout",
     "output_type": "stream",
     "text": [
      "['china', 'usa', 'russia', 'india', 'japan', 'germany', 'canada', 'united kingdom', 'south korea', 'iran', 'italy', 'mexico', 'south africa', 'brazil', 'france', 'indonesia', 'australia', 'poland', 'ukraine', 'spain']\n"
     ]
    }
   ],
   "source": [
    "# Get Top poluted countries \n",
    "country_list = emission_data['Country'].unique()\n",
    "\n",
    "temp = {}\n",
    "for c in country_list:\n",
    "    total_avg_pollution = float(emission_data[emission_data['Country'] == c]['Total'].mean())\n",
    "    temp[c] = total_avg_pollution\n",
    "\n",
    "top_polluted_countries = dict(sorted(temp.items(), key=lambda item: item[1], reverse=True))\n",
    "\n",
    "list_top = list(top_polluted_countries.keys())\n",
    "print(list_top[:20]) # Print top 20 polluted countries"
   ]
  },
  {
   "cell_type": "code",
   "execution_count": 6,
   "metadata": {},
   "outputs": [],
   "source": [
    "# Create a model for top 20 polluted countries\n",
    "\n",
    "top_polluted_country_data = emission_data[emission_data['Country'].isin(list_top[:20])]"
   ]
  },
  {
   "cell_type": "code",
   "execution_count": 7,
   "metadata": {},
   "outputs": [
    {
     "data": {
      "text/html": [
       "<div>\n",
       "<style scoped>\n",
       "    .dataframe tbody tr th:only-of-type {\n",
       "        vertical-align: middle;\n",
       "    }\n",
       "\n",
       "    .dataframe tbody tr th {\n",
       "        vertical-align: top;\n",
       "    }\n",
       "\n",
       "    .dataframe thead th {\n",
       "        text-align: right;\n",
       "    }\n",
       "</style>\n",
       "<table border=\"1\" class=\"dataframe\">\n",
       "  <thead>\n",
       "    <tr style=\"text-align: right;\">\n",
       "      <th></th>\n",
       "      <th>Country</th>\n",
       "      <th>Year</th>\n",
       "      <th>Total</th>\n",
       "      <th>Coal</th>\n",
       "      <th>Oil</th>\n",
       "      <th>Gas</th>\n",
       "      <th>Cement</th>\n",
       "      <th>Flaring</th>\n",
       "      <th>Per Capita</th>\n",
       "    </tr>\n",
       "  </thead>\n",
       "  <tbody>\n",
       "    <tr>\n",
       "      <th>153</th>\n",
       "      <td>australia</td>\n",
       "      <td>1990.0</td>\n",
       "      <td>278.154156</td>\n",
       "      <td>141.879819</td>\n",
       "      <td>88.842090</td>\n",
       "      <td>34.454816</td>\n",
       "      <td>3.462872</td>\n",
       "      <td>7.272496</td>\n",
       "      <td>16.315938</td>\n",
       "    </tr>\n",
       "    <tr>\n",
       "      <th>154</th>\n",
       "      <td>australia</td>\n",
       "      <td>1991.0</td>\n",
       "      <td>279.528510</td>\n",
       "      <td>146.082840</td>\n",
       "      <td>88.245572</td>\n",
       "      <td>32.786243</td>\n",
       "      <td>3.183033</td>\n",
       "      <td>7.001201</td>\n",
       "      <td>16.184767</td>\n",
       "    </tr>\n",
       "    <tr>\n",
       "      <th>155</th>\n",
       "      <td>australia</td>\n",
       "      <td>1992.0</td>\n",
       "      <td>284.525345</td>\n",
       "      <td>150.051381</td>\n",
       "      <td>87.916828</td>\n",
       "      <td>33.970472</td>\n",
       "      <td>2.923411</td>\n",
       "      <td>7.303701</td>\n",
       "      <td>16.293502</td>\n",
       "    </tr>\n",
       "    <tr>\n",
       "      <th>156</th>\n",
       "      <td>australia</td>\n",
       "      <td>1993.0</td>\n",
       "      <td>288.870537</td>\n",
       "      <td>150.098575</td>\n",
       "      <td>90.386578</td>\n",
       "      <td>35.670002</td>\n",
       "      <td>3.004698</td>\n",
       "      <td>7.136743</td>\n",
       "      <td>16.383765</td>\n",
       "    </tr>\n",
       "    <tr>\n",
       "      <th>157</th>\n",
       "      <td>australia</td>\n",
       "      <td>1994.0</td>\n",
       "      <td>293.696553</td>\n",
       "      <td>151.376241</td>\n",
       "      <td>91.924087</td>\n",
       "      <td>37.032005</td>\n",
       "      <td>3.484276</td>\n",
       "      <td>6.880148</td>\n",
       "      <td>16.494706</td>\n",
       "    </tr>\n",
       "    <tr>\n",
       "      <th>...</th>\n",
       "      <td>...</td>\n",
       "      <td>...</td>\n",
       "      <td>...</td>\n",
       "      <td>...</td>\n",
       "      <td>...</td>\n",
       "      <td>...</td>\n",
       "      <td>...</td>\n",
       "      <td>...</td>\n",
       "      <td>...</td>\n",
       "    </tr>\n",
       "    <tr>\n",
       "      <th>2923</th>\n",
       "      <td>usa</td>\n",
       "      <td>2017.0</td>\n",
       "      <td>5210.957584</td>\n",
       "      <td>1308.479533</td>\n",
       "      <td>2314.675386</td>\n",
       "      <td>1460.391796</td>\n",
       "      <td>40.323535</td>\n",
       "      <td>59.245489</td>\n",
       "      <td>15.800777</td>\n",
       "    </tr>\n",
       "    <tr>\n",
       "      <th>2924</th>\n",
       "      <td>usa</td>\n",
       "      <td>2018.0</td>\n",
       "      <td>5376.657233</td>\n",
       "      <td>1256.201494</td>\n",
       "      <td>2365.283480</td>\n",
       "      <td>1618.720337</td>\n",
       "      <td>38.970745</td>\n",
       "      <td>72.786925</td>\n",
       "      <td>16.187923</td>\n",
       "    </tr>\n",
       "    <tr>\n",
       "      <th>2925</th>\n",
       "      <td>usa</td>\n",
       "      <td>2019.0</td>\n",
       "      <td>5259.143836</td>\n",
       "      <td>1070.723931</td>\n",
       "      <td>2358.831137</td>\n",
       "      <td>1673.999100</td>\n",
       "      <td>40.895869</td>\n",
       "      <td>88.383147</td>\n",
       "      <td>15.730884</td>\n",
       "    </tr>\n",
       "    <tr>\n",
       "      <th>2926</th>\n",
       "      <td>usa</td>\n",
       "      <td>2020.0</td>\n",
       "      <td>4715.691109</td>\n",
       "      <td>878.972885</td>\n",
       "      <td>2049.336500</td>\n",
       "      <td>1653.677852</td>\n",
       "      <td>40.687747</td>\n",
       "      <td>67.684371</td>\n",
       "      <td>14.037218</td>\n",
       "    </tr>\n",
       "    <tr>\n",
       "      <th>2927</th>\n",
       "      <td>usa</td>\n",
       "      <td>2021.0</td>\n",
       "      <td>5007.335889</td>\n",
       "      <td>1002.299987</td>\n",
       "      <td>2233.778180</td>\n",
       "      <td>1637.038462</td>\n",
       "      <td>41.203135</td>\n",
       "      <td>67.684371</td>\n",
       "      <td>14.858668</td>\n",
       "    </tr>\n",
       "  </tbody>\n",
       "</table>\n",
       "<p>613 rows × 9 columns</p>\n",
       "</div>"
      ],
      "text/plain": [
       "        Country    Year        Total         Coal          Oil          Gas  \\\n",
       "153   australia  1990.0   278.154156   141.879819    88.842090    34.454816   \n",
       "154   australia  1991.0   279.528510   146.082840    88.245572    32.786243   \n",
       "155   australia  1992.0   284.525345   150.051381    87.916828    33.970472   \n",
       "156   australia  1993.0   288.870537   150.098575    90.386578    35.670002   \n",
       "157   australia  1994.0   293.696553   151.376241    91.924087    37.032005   \n",
       "...         ...     ...          ...          ...          ...          ...   \n",
       "2923        usa  2017.0  5210.957584  1308.479533  2314.675386  1460.391796   \n",
       "2924        usa  2018.0  5376.657233  1256.201494  2365.283480  1618.720337   \n",
       "2925        usa  2019.0  5259.143836  1070.723931  2358.831137  1673.999100   \n",
       "2926        usa  2020.0  4715.691109   878.972885  2049.336500  1653.677852   \n",
       "2927        usa  2021.0  5007.335889  1002.299987  2233.778180  1637.038462   \n",
       "\n",
       "         Cement    Flaring  Per Capita  \n",
       "153    3.462872   7.272496   16.315938  \n",
       "154    3.183033   7.001201   16.184767  \n",
       "155    2.923411   7.303701   16.293502  \n",
       "156    3.004698   7.136743   16.383765  \n",
       "157    3.484276   6.880148   16.494706  \n",
       "...         ...        ...         ...  \n",
       "2923  40.323535  59.245489   15.800777  \n",
       "2924  38.970745  72.786925   16.187923  \n",
       "2925  40.895869  88.383147   15.730884  \n",
       "2926  40.687747  67.684371   14.037218  \n",
       "2927  41.203135  67.684371   14.858668  \n",
       "\n",
       "[613 rows x 9 columns]"
      ]
     },
     "execution_count": 7,
     "metadata": {},
     "output_type": "execute_result"
    }
   ],
   "source": [
    "top_polluted_country_data # This will be our filtered dataset"
   ]
  },
  {
   "cell_type": "code",
   "execution_count": 8,
   "metadata": {},
   "outputs": [],
   "source": [
    "top_polluted_country_data = top_polluted_country_data.drop(columns=['Total']) # Drop 'Total' column because it is not related"
   ]
  },
  {
   "cell_type": "code",
   "execution_count": 9,
   "metadata": {},
   "outputs": [
    {
     "data": {
      "text/plain": [
       "{'australia': 1,\n",
       " 'brazil': 2,\n",
       " 'canada': 3,\n",
       " 'china': 4,\n",
       " 'france': 5,\n",
       " 'germany': 6,\n",
       " 'india': 7,\n",
       " 'indonesia': 8,\n",
       " 'iran': 9,\n",
       " 'italy': 10,\n",
       " 'japan': 11,\n",
       " 'mexico': 12,\n",
       " 'poland': 13,\n",
       " 'south korea': 14,\n",
       " 'russia': 15,\n",
       " 'south africa': 16,\n",
       " 'spain': 17,\n",
       " 'ukraine': 18,\n",
       " 'united kingdom': 19,\n",
       " 'usa': 20}"
      ]
     },
     "execution_count": 9,
     "metadata": {},
     "output_type": "execute_result"
    }
   ],
   "source": [
    "# Create a dictonary where every country is mapped to a unique number\n",
    "country_code = {}\n",
    "for i, country in enumerate(top_polluted_country_data['Country'].unique()):\n",
    "    country_code[country] = i+1\n",
    "\n",
    "country_code"
   ]
  },
  {
   "cell_type": "code",
   "execution_count": 10,
   "metadata": {},
   "outputs": [],
   "source": [
    "top_polluted_country_data['Country_code'] = top_polluted_country_data['Country'].map(country_code)"
   ]
  },
  {
   "cell_type": "code",
   "execution_count": 11,
   "metadata": {},
   "outputs": [],
   "source": [
    "# Drop Country column\n",
    "top_polluted_country_data = top_polluted_country_data.drop(columns=['Country'], axis=1)"
   ]
  },
  {
   "cell_type": "markdown",
   "metadata": {},
   "source": [
    "3. Choose target Y and split the dataset\n",
    "\n",
    "- Here I choose the 'Country_code' as the target variable."
   ]
  },
  {
   "cell_type": "code",
   "execution_count": 12,
   "metadata": {},
   "outputs": [
    {
     "name": "stdout",
     "output_type": "stream",
     "text": [
      "train data shapes:  (490, 8)\n",
      "test data shapes:  (123, 8)\n"
     ]
    }
   ],
   "source": [
    "# Reusing my code from Part III\n",
    "\n",
    "copy_emission_data = top_polluted_country_data\n",
    "\n",
    "# Split data into 80% training and 20% testing set\n",
    "training_set = copy_emission_data.sample(frac=0.8, random_state=42)\n",
    "test_set = copy_emission_data.drop(training_set.index)\n",
    "\n",
    "print(\"train data shapes: \", training_set.shape)\n",
    "print(\"test data shapes: \", test_set.shape)\n"
   ]
  },
  {
   "cell_type": "markdown",
   "metadata": {},
   "source": [
    "4. Normalize"
   ]
  },
  {
   "cell_type": "code",
   "execution_count": 13,
   "metadata": {},
   "outputs": [],
   "source": [
    "def normalize(column):\n",
    "    return (column - column.min()) / (column.max() - column.min())"
   ]
  },
  {
   "cell_type": "code",
   "execution_count": 14,
   "metadata": {},
   "outputs": [],
   "source": [
    "for column in ['Year', 'Coal', 'Oil', 'Gas', 'Cement', 'Flaring', 'Per Capita']:\n",
    "    training_set[column] = normalize(training_set[column])\n",
    "\n",
    "for column in ['Year', 'Coal', 'Oil', 'Gas', 'Cement', 'Flaring', 'Per Capita']:\n",
    "    test_set[column] = normalize(test_set[column])"
   ]
  },
  {
   "cell_type": "code",
   "execution_count": 15,
   "metadata": {},
   "outputs": [
    {
     "data": {
      "text/html": [
       "<div>\n",
       "<style scoped>\n",
       "    .dataframe tbody tr th:only-of-type {\n",
       "        vertical-align: middle;\n",
       "    }\n",
       "\n",
       "    .dataframe tbody tr th {\n",
       "        vertical-align: top;\n",
       "    }\n",
       "\n",
       "    .dataframe thead th {\n",
       "        text-align: right;\n",
       "    }\n",
       "</style>\n",
       "<table border=\"1\" class=\"dataframe\">\n",
       "  <thead>\n",
       "    <tr style=\"text-align: right;\">\n",
       "      <th></th>\n",
       "      <th>Year</th>\n",
       "      <th>Coal</th>\n",
       "      <th>Oil</th>\n",
       "      <th>Gas</th>\n",
       "      <th>Cement</th>\n",
       "      <th>Flaring</th>\n",
       "      <th>Per Capita</th>\n",
       "      <th>Country_code</th>\n",
       "    </tr>\n",
       "  </thead>\n",
       "  <tbody>\n",
       "    <tr>\n",
       "      <th>count</th>\n",
       "      <td>490.000000</td>\n",
       "      <td>490.000000</td>\n",
       "      <td>490.000000</td>\n",
       "      <td>490.000000</td>\n",
       "      <td>490.000000</td>\n",
       "      <td>490.000000</td>\n",
       "      <td>490.000000</td>\n",
       "      <td>490.000000</td>\n",
       "    </tr>\n",
       "    <tr>\n",
       "      <th>mean</th>\n",
       "      <td>0.511192</td>\n",
       "      <td>0.069379</td>\n",
       "      <td>0.145068</td>\n",
       "      <td>0.083460</td>\n",
       "      <td>0.017666</td>\n",
       "      <td>0.008898</td>\n",
       "      <td>0.009076</td>\n",
       "      <td>10.559184</td>\n",
       "    </tr>\n",
       "    <tr>\n",
       "      <th>std</th>\n",
       "      <td>0.296877</td>\n",
       "      <td>0.159041</td>\n",
       "      <td>0.205525</td>\n",
       "      <td>0.132286</td>\n",
       "      <td>0.065910</td>\n",
       "      <td>0.067919</td>\n",
       "      <td>0.063607</td>\n",
       "      <td>5.792030</td>\n",
       "    </tr>\n",
       "    <tr>\n",
       "      <th>min</th>\n",
       "      <td>0.000000</td>\n",
       "      <td>0.000000</td>\n",
       "      <td>0.000000</td>\n",
       "      <td>0.000000</td>\n",
       "      <td>0.000000</td>\n",
       "      <td>0.000000</td>\n",
       "      <td>0.000000</td>\n",
       "      <td>1.000000</td>\n",
       "    </tr>\n",
       "    <tr>\n",
       "      <th>25%</th>\n",
       "      <td>0.258065</td>\n",
       "      <td>0.007565</td>\n",
       "      <td>0.055134</td>\n",
       "      <td>0.021079</td>\n",
       "      <td>0.001740</td>\n",
       "      <td>0.000898</td>\n",
       "      <td>0.002383</td>\n",
       "      <td>6.000000</td>\n",
       "    </tr>\n",
       "    <tr>\n",
       "      <th>50%</th>\n",
       "      <td>0.516129</td>\n",
       "      <td>0.021223</td>\n",
       "      <td>0.085315</td>\n",
       "      <td>0.041545</td>\n",
       "      <td>0.004670</td>\n",
       "      <td>0.001459</td>\n",
       "      <td>0.003811</td>\n",
       "      <td>10.000000</td>\n",
       "    </tr>\n",
       "    <tr>\n",
       "      <th>75%</th>\n",
       "      <td>0.774194</td>\n",
       "      <td>0.050203</td>\n",
       "      <td>0.122055</td>\n",
       "      <td>0.067211</td>\n",
       "      <td>0.009267</td>\n",
       "      <td>0.004098</td>\n",
       "      <td>0.005303</td>\n",
       "      <td>16.000000</td>\n",
       "    </tr>\n",
       "    <tr>\n",
       "      <th>max</th>\n",
       "      <td>1.000000</td>\n",
       "      <td>1.000000</td>\n",
       "      <td>1.000000</td>\n",
       "      <td>1.000000</td>\n",
       "      <td>1.000000</td>\n",
       "      <td>1.000000</td>\n",
       "      <td>1.000000</td>\n",
       "      <td>20.000000</td>\n",
       "    </tr>\n",
       "  </tbody>\n",
       "</table>\n",
       "</div>"
      ],
      "text/plain": [
       "             Year        Coal         Oil         Gas      Cement     Flaring  \\\n",
       "count  490.000000  490.000000  490.000000  490.000000  490.000000  490.000000   \n",
       "mean     0.511192    0.069379    0.145068    0.083460    0.017666    0.008898   \n",
       "std      0.296877    0.159041    0.205525    0.132286    0.065910    0.067919   \n",
       "min      0.000000    0.000000    0.000000    0.000000    0.000000    0.000000   \n",
       "25%      0.258065    0.007565    0.055134    0.021079    0.001740    0.000898   \n",
       "50%      0.516129    0.021223    0.085315    0.041545    0.004670    0.001459   \n",
       "75%      0.774194    0.050203    0.122055    0.067211    0.009267    0.004098   \n",
       "max      1.000000    1.000000    1.000000    1.000000    1.000000    1.000000   \n",
       "\n",
       "       Per Capita  Country_code  \n",
       "count  490.000000    490.000000  \n",
       "mean     0.009076     10.559184  \n",
       "std      0.063607      5.792030  \n",
       "min      0.000000      1.000000  \n",
       "25%      0.002383      6.000000  \n",
       "50%      0.003811     10.000000  \n",
       "75%      0.005303     16.000000  \n",
       "max      1.000000     20.000000  "
      ]
     },
     "execution_count": 15,
     "metadata": {},
     "output_type": "execute_result"
    }
   ],
   "source": [
    "training_set.describe()"
   ]
  },
  {
   "cell_type": "code",
   "execution_count": 16,
   "metadata": {},
   "outputs": [
    {
     "name": "stdout",
     "output_type": "stream",
     "text": [
      "train data shapes:  (490, 7) (490,)\n",
      "test data shapes:  (123, 7) (123,)\n"
     ]
    }
   ],
   "source": [
    "# Reusing my code from Part III\n",
    "\n",
    "x_train = training_set.drop('Country_code', axis=1)\n",
    "y_train = training_set['Country_code']\n",
    "\n",
    "x_test = test_set.drop('Country_code', axis=1)\n",
    "y_test = test_set['Country_code']\n",
    "\n",
    "print(\"train data shapes: \", x_train.shape, y_train.shape)\n",
    "print(\"test data shapes: \", x_test.shape, y_test.shape)"
   ]
  },
  {
   "cell_type": "markdown",
   "metadata": {},
   "source": [
    "5. Implement Elastic Net Regularization"
   ]
  },
  {
   "cell_type": "code",
   "execution_count": 17,
   "metadata": {},
   "outputs": [],
   "source": [
    "# Using my code from Part II\n",
    "\n",
    "class ElasticNetReg():\n",
    "    def __init__(self, learning_rate, iterations):\n",
    "        self.weights = None\n",
    "        self.alpha = learning_rate\n",
    "        self.iterations = iterations\n",
    "        self.loss = []\n",
    "        self.n = None\n",
    "        self.features = None\n",
    "        self.dgrad = []\n",
    "    \n",
    "    def cost(self, X, y, lam1, lam2):  \n",
    "        dy = y - np.dot(X, self.weights)\n",
    "        mse = (1/2*self.n) * np.sum(dy**2)\n",
    "        l1_penalty = lam1 * np.sum(np.abs(self.weights[1:]))  # Exclude bias term\n",
    "        l2_penalty = (lam2 / 2) * np.sum(self.weights[1:] ** 2)  # Exclude bias term\n",
    "        jw = mse + l1_penalty + l2_penalty \n",
    "        return jw\n",
    "\n",
    "    def gradient_descent(self, X, y, lam1, lam2, iter):\n",
    "        dy = y - np.dot(X, self.weights)\n",
    "        # Gradient for MSE term\n",
    "        gradient_mse = -np.dot(X.T, dy) / self.n\n",
    "\n",
    "        # Gradient for L1 \n",
    "        l1_grad = lam1 * np.sign(self.weights)\n",
    "        l1_grad[0] = 0  # No L1 for bias term\n",
    "\n",
    "        # Gradient for L2 \n",
    "        l2_grad = lam2 * self.weights\n",
    "        l2_grad[0] = 0  # No L2 for bias term\n",
    "\n",
    "        # Total gradient\n",
    "        dw = gradient_mse + l1_grad + l2_grad\n",
    "\n",
    "        self.dgrad.append(dw)\n",
    "\n",
    "        if np.all(np.abs(dw) < 0.01):\n",
    "            print(f\"gradient stop at iteration = {iter}\")\n",
    "            return True\n",
    "       \n",
    "        self.weights -= self.alpha * dw # Update weights\n",
    "        return False\n",
    "\n",
    "    def fit(self, X, y, lam1, lam2, w):\n",
    "        self.n = X.shape[0]\n",
    "\n",
    "        self.weights = w\n",
    "        self.weights[0] = 1 #for bias term\n",
    "\n",
    "        # Add ones to starting row for bias term\n",
    "        X = np.column_stack((np.ones(X.shape[0]), X))\n",
    "\n",
    "        for i in range(self.iterations):\n",
    "            loss = self.cost(X, y, lam1, lam2) # Compute J(w)\n",
    "            t = self.gradient_descent(X, y, lam1, lam2, i)\n",
    "            if t:\n",
    "                break\n",
    "            # print(f\"loss for iteration {i} = {loss}\")\n",
    "            self.loss.append(loss)\n",
    "\n",
    "        pickle.dump(self.weights, open(\"part4.p\", \"wb\" ))\n",
    "\n",
    "        return \n",
    "    \n",
    "    def predict(self, X):\n",
    "        X = np.column_stack((np.ones(X.shape[0]), X))\n",
    "        return np.dot(X, self.weights)\n",
    "\n"
   ]
  },
  {
   "cell_type": "code",
   "execution_count": 18,
   "metadata": {},
   "outputs": [],
   "source": [
    "emission_model = ElasticNetReg(0.001, 200000)\n"
   ]
  },
  {
   "cell_type": "code",
   "execution_count": 19,
   "metadata": {},
   "outputs": [],
   "source": [
    "# Xavier Initialization of Weights\n",
    "\n",
    "def xavier_initialization(input_dim, output_dim):\n",
    "    # Calculate the limit for uniform distribution\n",
    "    limit = np.sqrt(6 / (input_dim + output_dim))\n",
    "    # Initialize weights with uniform distribution in the range[-limit, limit]\n",
    "    weights = np.random.uniform(-limit, limit, size=(input_dim,output_dim))\n",
    "\n",
    "    return weights.flatten()"
   ]
  },
  {
   "cell_type": "code",
   "execution_count": 20,
   "metadata": {},
   "outputs": [],
   "source": [
    "# Different methods of weight initialization\n",
    "\n",
    "initial_w1 = np.random.rand(1 + x_train.shape[1]) # Initialize random weights\n",
    "\n",
    "initial_w2 = np.zeros(1 + x_train.shape[1]) # Initialize zero\n",
    "\n",
    "initial_w3 = xavier_initialization(1 + x_train.shape[1], 1) # Using Xavier's initialization"
   ]
  },
  {
   "cell_type": "code",
   "execution_count": 21,
   "metadata": {},
   "outputs": [
    {
     "name": "stdout",
     "output_type": "stream",
     "text": [
      "gradient stop at iteration = 111655\n"
     ]
    }
   ],
   "source": [
    "\n",
    "emission_model.fit(x_train, y_train, 0.001, 0.01, initial_w3)"
   ]
  },
  {
   "cell_type": "code",
   "execution_count": 22,
   "metadata": {},
   "outputs": [
    {
     "name": "stdout",
     "output_type": "stream",
     "text": [
      "\n",
      "best lambda1 : 0.01, best lambda2 : 0.01, best weight = w3, min loss : 3898194.547057146\n"
     ]
    }
   ],
   "source": [
    "# Finding best Hyperparameters - weights, lam1m lam2 for 10000 iterations\n",
    "\n",
    "best_lam1 = 0\n",
    "best_lam2 = 0\n",
    "min_loss = 1e20\n",
    "best_w = 0\n",
    "weight_methods = [initial_w1, initial_w2, initial_w3]\n",
    "for w in range(len(weight_methods)):\n",
    "    for i in [0.01, 0.05, 0.1, 0.5, 1]:\n",
    "        for j in [0.01, 0.05, 0.1, 0.5, 1]:\n",
    "            model = ElasticNetReg(0.01, 10000)\n",
    "            model.fit(x_train, y_train, 0.1, 0.1, weight_methods[w])\n",
    "            if model.loss[-1] < min_loss:\n",
    "                min_loss = model.loss[-1]\n",
    "                best_lam1 = i\n",
    "                best_lam2 = j\n",
    "                best_w = w + 1\n",
    "            # print(f\"L1 = {i}, L2 = {j}, W = w{w+1}, Loss = {model.loss[-1]}\")\n",
    "            \n",
    "print(f\"\\nbest lambda1 : {best_lam1}, best lambda2 : {best_lam2}, best weight = w{best_w}, min loss : {min_loss}\")"
   ]
  },
  {
   "cell_type": "code",
   "execution_count": 23,
   "metadata": {},
   "outputs": [
    {
     "data": {
      "image/png": "[encoded data removed]",
      "text/plain": [
       "<Figure size 640x480 with 1 Axes>"
      ]
     },
     "metadata": {},
     "output_type": "display_data"
    }
   ],
   "source": [
    "plt.scatter(range(len(emission_model.loss)), emission_model.loss)\n",
    "plt.title(\"Graph of Loss over iteration\")\n",
    "plt.xlabel(\"Iteration\")\n",
    "plt.ylabel(\"Loss\")\n",
    "plt.show()"
   ]
  },
  {
   "cell_type": "code",
   "execution_count": 24,
   "metadata": {},
   "outputs": [
    {
     "data": {
      "text/plain": [
       "3453285.3460513204"
      ]
     },
     "execution_count": 24,
     "metadata": {},
     "output_type": "execute_result"
    }
   ],
   "source": [
    "emission_model.loss[-1]"
   ]
  },
  {
   "cell_type": "code",
   "execution_count": 25,
   "metadata": {},
   "outputs": [],
   "source": [
    "y_pred = emission_model.predict(x_test)"
   ]
  },
  {
   "cell_type": "code",
   "execution_count": 26,
   "metadata": {},
   "outputs": [
    {
     "data": {
      "image/png": "[encoded data removed]",
      "text/plain": [
       "<Figure size 640x480 with 1 Axes>"
      ]
     },
     "metadata": {},
     "output_type": "display_data"
    }
   ],
   "source": [
    "# Plot: Actual vs Predicted output\n",
    "\n",
    "plt.scatter(y_test, y_pred)\n",
    "plt.xlabel(\"Actual\")\n",
    "plt.ylabel(\"Prediction\")\n",
    "plt.show()"
   ]
  },
  {
   "cell_type": "code",
   "execution_count": 27,
   "metadata": {},
   "outputs": [],
   "source": [
    "# Save weights as pickle file\n",
    "# import pickle\n",
    "\n",
    "# pickle.dump(emission_model.weights, open(\"ha33_assignment1_part4.p\", \"wb\" ))\n",
    "\n",
    "# print(\"Weights stores as pickle file\")\n"
   ]
  }
 ],
 "metadata": {
  "kernelspec": {
   "display_name": "Python 3",
   "language": "python",
   "name": "python3"
  },
  "language_info": {
   "codemirror_mode": {
    "name": "ipython",
    "version": 3
   },
   "file_extension": ".py",
   "mimetype": "text/x-python",
   "name": "python",
   "nbconvert_exporter": "python",
   "pygments_lexer": "ipython3",
   "version": "3.12.5"
  }
 },
 "nbformat": 4,
 "nbformat_minor": 2
}
