{
 "cells": [
  {
   "cell_type": "markdown",
   "metadata": {},
   "source": [
    "## Part III: Linear & Ridge Regression using OLS\n",
    "\n",
    "Dataset used: Wine Data\n",
    "\n",
    "1. Import Libraries and read dataset"
   ]
  },
  {
   "cell_type": "code",
   "execution_count": 27,
   "metadata": {},
   "outputs": [],
   "source": [
    "import numpy as np \n",
    "import pandas as pd \n",
    "import matplotlib.pyplot as plt"
   ]
  },
  {
   "cell_type": "code",
   "execution_count": 28,
   "metadata": {},
   "outputs": [],
   "source": [
    "# Read data\n",
    "\n",
    "wine_data = pd.read_csv('./preprocessed/wine_data_preprocessed.csv')"
   ]
  },
  {
   "cell_type": "code",
   "execution_count": 29,
   "metadata": {},
   "outputs": [
    {
     "data": {
      "text/html": [
       "<div>\n",
       "<style scoped>\n",
       "    .dataframe tbody tr th:only-of-type {\n",
       "        vertical-align: middle;\n",
       "    }\n",
       "\n",
       "    .dataframe tbody tr th {\n",
       "        vertical-align: top;\n",
       "    }\n",
       "\n",
       "    .dataframe thead th {\n",
       "        text-align: right;\n",
       "    }\n",
       "</style>\n",
       "<table border=\"1\" class=\"dataframe\">\n",
       "  <thead>\n",
       "    <tr style=\"text-align: right;\">\n",
       "      <th></th>\n",
       "      <th>fixed acidity</th>\n",
       "      <th>volatile acidity</th>\n",
       "      <th>citric acid</th>\n",
       "      <th>residual sugar</th>\n",
       "      <th>chlorides</th>\n",
       "      <th>free sulfur dioxide</th>\n",
       "      <th>total sulfur dioxide</th>\n",
       "      <th>density</th>\n",
       "      <th>pH</th>\n",
       "      <th>sulphates</th>\n",
       "      <th>alcohol</th>\n",
       "      <th>quality</th>\n",
       "      <th>wine_type_white</th>\n",
       "      <th>wine_type_red</th>\n",
       "    </tr>\n",
       "  </thead>\n",
       "  <tbody>\n",
       "    <tr>\n",
       "      <th>0</th>\n",
       "      <td>7.0</td>\n",
       "      <td>0.17</td>\n",
       "      <td>0.74</td>\n",
       "      <td>12.80</td>\n",
       "      <td>0.045</td>\n",
       "      <td>24.0</td>\n",
       "      <td>126.0</td>\n",
       "      <td>0.99420</td>\n",
       "      <td>3.26</td>\n",
       "      <td>0.38</td>\n",
       "      <td>12.2</td>\n",
       "      <td>8</td>\n",
       "      <td>1</td>\n",
       "      <td>0</td>\n",
       "    </tr>\n",
       "    <tr>\n",
       "      <th>1</th>\n",
       "      <td>7.7</td>\n",
       "      <td>0.64</td>\n",
       "      <td>0.21</td>\n",
       "      <td>2.20</td>\n",
       "      <td>0.077</td>\n",
       "      <td>32.0</td>\n",
       "      <td>133.0</td>\n",
       "      <td>0.99560</td>\n",
       "      <td>3.27</td>\n",
       "      <td>0.45</td>\n",
       "      <td>9.9</td>\n",
       "      <td>5</td>\n",
       "      <td>0</td>\n",
       "      <td>1</td>\n",
       "    </tr>\n",
       "    <tr>\n",
       "      <th>2</th>\n",
       "      <td>6.8</td>\n",
       "      <td>0.39</td>\n",
       "      <td>0.34</td>\n",
       "      <td>7.40</td>\n",
       "      <td>0.020</td>\n",
       "      <td>38.0</td>\n",
       "      <td>133.0</td>\n",
       "      <td>0.99212</td>\n",
       "      <td>3.18</td>\n",
       "      <td>0.44</td>\n",
       "      <td>12.0</td>\n",
       "      <td>7</td>\n",
       "      <td>1</td>\n",
       "      <td>0</td>\n",
       "    </tr>\n",
       "    <tr>\n",
       "      <th>3</th>\n",
       "      <td>6.3</td>\n",
       "      <td>0.28</td>\n",
       "      <td>0.47</td>\n",
       "      <td>11.20</td>\n",
       "      <td>0.040</td>\n",
       "      <td>61.0</td>\n",
       "      <td>183.0</td>\n",
       "      <td>0.99592</td>\n",
       "      <td>3.12</td>\n",
       "      <td>0.51</td>\n",
       "      <td>9.5</td>\n",
       "      <td>6</td>\n",
       "      <td>1</td>\n",
       "      <td>0</td>\n",
       "    </tr>\n",
       "    <tr>\n",
       "      <th>4</th>\n",
       "      <td>7.4</td>\n",
       "      <td>0.35</td>\n",
       "      <td>0.20</td>\n",
       "      <td>13.90</td>\n",
       "      <td>0.054</td>\n",
       "      <td>63.0</td>\n",
       "      <td>229.0</td>\n",
       "      <td>0.99888</td>\n",
       "      <td>3.11</td>\n",
       "      <td>0.50</td>\n",
       "      <td>8.9</td>\n",
       "      <td>6</td>\n",
       "      <td>1</td>\n",
       "      <td>0</td>\n",
       "    </tr>\n",
       "    <tr>\n",
       "      <th>...</th>\n",
       "      <td>...</td>\n",
       "      <td>...</td>\n",
       "      <td>...</td>\n",
       "      <td>...</td>\n",
       "      <td>...</td>\n",
       "      <td>...</td>\n",
       "      <td>...</td>\n",
       "      <td>...</td>\n",
       "      <td>...</td>\n",
       "      <td>...</td>\n",
       "      <td>...</td>\n",
       "      <td>...</td>\n",
       "      <td>...</td>\n",
       "      <td>...</td>\n",
       "    </tr>\n",
       "    <tr>\n",
       "      <th>6492</th>\n",
       "      <td>7.6</td>\n",
       "      <td>0.32</td>\n",
       "      <td>0.58</td>\n",
       "      <td>16.75</td>\n",
       "      <td>0.050</td>\n",
       "      <td>43.0</td>\n",
       "      <td>163.0</td>\n",
       "      <td>0.99990</td>\n",
       "      <td>3.15</td>\n",
       "      <td>0.54</td>\n",
       "      <td>9.2</td>\n",
       "      <td>5</td>\n",
       "      <td>1</td>\n",
       "      <td>0</td>\n",
       "    </tr>\n",
       "    <tr>\n",
       "      <th>6493</th>\n",
       "      <td>5.6</td>\n",
       "      <td>0.28</td>\n",
       "      <td>0.27</td>\n",
       "      <td>3.90</td>\n",
       "      <td>0.043</td>\n",
       "      <td>52.0</td>\n",
       "      <td>158.0</td>\n",
       "      <td>0.99202</td>\n",
       "      <td>3.35</td>\n",
       "      <td>0.44</td>\n",
       "      <td>10.7</td>\n",
       "      <td>7</td>\n",
       "      <td>1</td>\n",
       "      <td>0</td>\n",
       "    </tr>\n",
       "    <tr>\n",
       "      <th>6494</th>\n",
       "      <td>6.4</td>\n",
       "      <td>0.37</td>\n",
       "      <td>0.20</td>\n",
       "      <td>5.60</td>\n",
       "      <td>0.117</td>\n",
       "      <td>61.0</td>\n",
       "      <td>183.0</td>\n",
       "      <td>0.99459</td>\n",
       "      <td>3.24</td>\n",
       "      <td>0.43</td>\n",
       "      <td>9.5</td>\n",
       "      <td>5</td>\n",
       "      <td>1</td>\n",
       "      <td>0</td>\n",
       "    </tr>\n",
       "    <tr>\n",
       "      <th>6495</th>\n",
       "      <td>6.5</td>\n",
       "      <td>0.26</td>\n",
       "      <td>0.50</td>\n",
       "      <td>8.00</td>\n",
       "      <td>0.051</td>\n",
       "      <td>46.0</td>\n",
       "      <td>197.0</td>\n",
       "      <td>0.99536</td>\n",
       "      <td>3.18</td>\n",
       "      <td>0.47</td>\n",
       "      <td>9.5</td>\n",
       "      <td>5</td>\n",
       "      <td>1</td>\n",
       "      <td>0</td>\n",
       "    </tr>\n",
       "    <tr>\n",
       "      <th>6496</th>\n",
       "      <td>7.2</td>\n",
       "      <td>0.62</td>\n",
       "      <td>0.06</td>\n",
       "      <td>2.70</td>\n",
       "      <td>0.077</td>\n",
       "      <td>15.0</td>\n",
       "      <td>85.0</td>\n",
       "      <td>0.99746</td>\n",
       "      <td>3.51</td>\n",
       "      <td>0.54</td>\n",
       "      <td>9.5</td>\n",
       "      <td>5</td>\n",
       "      <td>0</td>\n",
       "      <td>1</td>\n",
       "    </tr>\n",
       "  </tbody>\n",
       "</table>\n",
       "<p>6497 rows × 14 columns</p>\n",
       "</div>"
      ],
      "text/plain": [
       "      fixed acidity  volatile acidity  citric acid  residual sugar  chlorides  \\\n",
       "0               7.0              0.17         0.74           12.80      0.045   \n",
       "1               7.7              0.64         0.21            2.20      0.077   \n",
       "2               6.8              0.39         0.34            7.40      0.020   \n",
       "3               6.3              0.28         0.47           11.20      0.040   \n",
       "4               7.4              0.35         0.20           13.90      0.054   \n",
       "...             ...               ...          ...             ...        ...   \n",
       "6492            7.6              0.32         0.58           16.75      0.050   \n",
       "6493            5.6              0.28         0.27            3.90      0.043   \n",
       "6494            6.4              0.37         0.20            5.60      0.117   \n",
       "6495            6.5              0.26         0.50            8.00      0.051   \n",
       "6496            7.2              0.62         0.06            2.70      0.077   \n",
       "\n",
       "      free sulfur dioxide  total sulfur dioxide  density    pH  sulphates  \\\n",
       "0                    24.0                 126.0  0.99420  3.26       0.38   \n",
       "1                    32.0                 133.0  0.99560  3.27       0.45   \n",
       "2                    38.0                 133.0  0.99212  3.18       0.44   \n",
       "3                    61.0                 183.0  0.99592  3.12       0.51   \n",
       "4                    63.0                 229.0  0.99888  3.11       0.50   \n",
       "...                   ...                   ...      ...   ...        ...   \n",
       "6492                 43.0                 163.0  0.99990  3.15       0.54   \n",
       "6493                 52.0                 158.0  0.99202  3.35       0.44   \n",
       "6494                 61.0                 183.0  0.99459  3.24       0.43   \n",
       "6495                 46.0                 197.0  0.99536  3.18       0.47   \n",
       "6496                 15.0                  85.0  0.99746  3.51       0.54   \n",
       "\n",
       "      alcohol  quality  wine_type_white  wine_type_red  \n",
       "0        12.2        8                1              0  \n",
       "1         9.9        5                0              1  \n",
       "2        12.0        7                1              0  \n",
       "3         9.5        6                1              0  \n",
       "4         8.9        6                1              0  \n",
       "...       ...      ...              ...            ...  \n",
       "6492      9.2        5                1              0  \n",
       "6493     10.7        7                1              0  \n",
       "6494      9.5        5                1              0  \n",
       "6495      9.5        5                1              0  \n",
       "6496      9.5        5                0              1  \n",
       "\n",
       "[6497 rows x 14 columns]"
      ]
     },
     "execution_count": 29,
     "metadata": {},
     "output_type": "execute_result"
    }
   ],
   "source": [
    "# Data is already preprocessed, except Normalization\n",
    "wine_data"
   ]
  },
  {
   "cell_type": "markdown",
   "metadata": {},
   "source": [
    "2. Choosing target Y and split the dataset\n",
    "\n",
    "- Here in this case I choose quality of the wine as target value. \n",
    "- So this problem becomes a Linear Regression problem where the prodicted value is in the range of 0 (very bad) and 10 (excellent)."
   ]
  },
  {
   "cell_type": "code",
   "execution_count": 30,
   "metadata": {},
   "outputs": [
    {
     "name": "stdout",
     "output_type": "stream",
     "text": [
      "train data shapes:  (5198, 14)\n",
      "test data shapes:  (1299, 14)\n"
     ]
    }
   ],
   "source": [
    "# Reusing my code from Part II\n",
    "\n",
    "copy_wine_data = wine_data\n",
    "\n",
    "# Split data into 80% training and 20% testing set\n",
    "training_set = copy_wine_data.sample(frac=0.8, random_state=42)\n",
    "test_set = copy_wine_data.drop(training_set.index)\n",
    "\n",
    "print(\"train data shapes: \", training_set.shape)\n",
    "print(\"test data shapes: \", test_set.shape)\n",
    "\n"
   ]
  },
  {
   "cell_type": "markdown",
   "metadata": {},
   "source": [
    "3. Normalize"
   ]
  },
  {
   "cell_type": "code",
   "execution_count": 31,
   "metadata": {},
   "outputs": [],
   "source": [
    "def normalize(column):\n",
    "    return (column - column.min()) / (column.max() - column.min())"
   ]
  },
  {
   "cell_type": "code",
   "execution_count": 32,
   "metadata": {},
   "outputs": [],
   "source": [
    "# Normalize these features \n",
    "for column in ['fixed acidity', 'residual sugar', 'free sulfur dioxide', 'total sulfur dioxide', 'alcohol', 'pH']:\n",
    "    training_set[column] = normalize(training_set[column])\n",
    "\n",
    "for column in ['fixed acidity', 'residual sugar', 'free sulfur dioxide', 'total sulfur dioxide', 'alcohol', 'pH']:\n",
    "    test_set[column] = normalize(test_set[column])"
   ]
  },
  {
   "cell_type": "code",
   "execution_count": 33,
   "metadata": {},
   "outputs": [
    {
     "name": "stdout",
     "output_type": "stream",
     "text": [
      "train data shapes:  (5198, 13) (5198,)\n",
      "test data shapes:  (1299, 13) (1299,)\n"
     ]
    }
   ],
   "source": [
    "# Create Train set and Test set\n",
    "\n",
    "x_train = training_set.drop('quality', axis=1)\n",
    "y_train = training_set['quality']\n",
    "\n",
    "x_test = test_set.drop('quality', axis=1)\n",
    "y_test = test_set['quality']\n",
    "\n",
    "print(\"train data shapes: \", x_train.shape, y_train.shape)\n",
    "print(\"test data shapes: \", x_test.shape, y_test.shape)"
   ]
  },
  {
   "cell_type": "markdown",
   "metadata": {},
   "source": [
    "4. Linear Regression using OLS"
   ]
  },
  {
   "cell_type": "code",
   "execution_count": 34,
   "metadata": {},
   "outputs": [],
   "source": [
    "class LinRegressionOls():\n",
    "    def __init__(self):\n",
    "        self.weights = None\n",
    "\n",
    "    def fit(self, X, y):\n",
    "        # Add ones to starting row to handle bias term\n",
    "        X = np.column_stack((np.ones(X.shape[0]), X))\n",
    "        w = np.dot(np.dot(np.linalg.inv(np.dot(X.T, X)), X.T), y)\n",
    "        self.weights = w\n",
    "        return \n",
    "    \n",
    "    def predict(self, X):\n",
    "        X = np.column_stack((np.ones(X.shape[0]), X)) # Handle bias term\n",
    "        return np.dot(X, self.weights.T)\n",
    "        # return X @ self.weights\n",
    "    \n",
    "    def compute_mse(self, y_true, y_pred):\n",
    "        mse = np.mean((y_true - y_pred)**2)\n",
    "        return mse\n"
   ]
  },
  {
   "cell_type": "code",
   "execution_count": 35,
   "metadata": {},
   "outputs": [],
   "source": [
    "wine_model = LinRegressionOls() # Create Wine model\n",
    "\n",
    "wine_model.fit(x_train, y_train)"
   ]
  },
  {
   "cell_type": "code",
   "execution_count": 36,
   "metadata": {},
   "outputs": [
    {
     "data": {
      "text/plain": [
       "array([ 2845.25366211,   -36.52566903,    23.07420579,    10.02678861,\n",
       "          23.72253902,   -78.28843498,     4.74305604,    -5.94617546,\n",
       "       -2517.40895504,    13.29145018,     5.78417745,   -19.07529255,\n",
       "        -340.35839844,  -336.26708984])"
      ]
     },
     "execution_count": 36,
     "metadata": {},
     "output_type": "execute_result"
    }
   ],
   "source": [
    "wine_model.weights"
   ]
  },
  {
   "cell_type": "code",
   "execution_count": 37,
   "metadata": {},
   "outputs": [
    {
     "data": {
      "text/plain": [
       "array([ 9.64620519, -1.02723646,  5.9479089 , ..., -6.2039109 ,\n",
       "        3.46106452, -1.14839239])"
      ]
     },
     "execution_count": 37,
     "metadata": {},
     "output_type": "execute_result"
    }
   ],
   "source": [
    "y_pred_linear = wine_model.predict(x_test)\n",
    "y_pred_linear"
   ]
  },
  {
   "cell_type": "code",
   "execution_count": 38,
   "metadata": {},
   "outputs": [],
   "source": [
    "y_pred_linear = np.array(y_pred_linear) # Convert into numpy arrays for plotting purpose\n",
    "y_test_linear = np.array(y_test)"
   ]
  },
  {
   "cell_type": "code",
   "execution_count": 39,
   "metadata": {},
   "outputs": [
    {
     "data": {
      "text/plain": [
       "78.14900823978043"
      ]
     },
     "execution_count": 39,
     "metadata": {},
     "output_type": "execute_result"
    }
   ],
   "source": [
    "mse = wine_model.compute_mse(y_test_linear, y_pred_linear)  # Compute MSE\n",
    "mse"
   ]
  },
  {
   "cell_type": "code",
   "execution_count": 40,
   "metadata": {},
   "outputs": [
    {
     "data": {
      "image/png": "[encoded data removed]",
      "text/plain": [
       "<Figure size 640x480 with 1 Axes>"
      ]
     },
     "metadata": {},
     "output_type": "display_data"
    }
   ],
   "source": [
    "# Plot actual targets vs predictions\n",
    "plt.scatter(y_test_linear, y_pred_linear, color=\"blue\", label=\"Actual targets\")\n",
    "# plt.plot(x_test, y_pred, color=\"red\", label=\"Predictions\")\n",
    "plt.xlabel(\"Training data\")\n",
    "plt.ylabel(\"Predication\")\n",
    "plt.title(\"Predictions vs Actual\")\n",
    "plt.show()"
   ]
  },
  {
   "cell_type": "markdown",
   "metadata": {},
   "source": [
    "### 5. Ridge Regression using OLS"
   ]
  },
  {
   "cell_type": "code",
   "execution_count": 41,
   "metadata": {},
   "outputs": [],
   "source": [
    "# Reusing code from Linear Regression using OLS\n",
    "\n",
    "class RidgeRegressionOls():\n",
    "    def __init__(self):\n",
    "        self.weights = None\n",
    "        self.lam = None\n",
    "\n",
    "    def fit(self, X, y, lam):\n",
    "        self.lam = lam\n",
    "        X = np.column_stack((np.ones(X.shape[0]), X)) # Bias Term\n",
    "        I = np.eye(X.shape[1])\n",
    "        I[0, 0] = 0  # Do not regularize the bias term\n",
    "        w = np.dot(np.dot(np.linalg.inv(np.dot(X.T, X) + self.lam*I), X.T), y)\n",
    "        self.weights = w\n",
    "        return \n",
    "    \n",
    "    def predict(self, X):\n",
    "        X = np.column_stack((np.ones(X.shape[0]), X))\n",
    "        return np.dot(X, self.weights.T)\n",
    "    \n",
    "    def compute_mse(self, y_true, y_pred):\n",
    "        mse = np.mean((y_true - y_pred)**2) + 0.5*self.lam*np.dot(self.weights.T, self.weights)\n",
    "        return mse\n"
   ]
  },
  {
   "cell_type": "code",
   "execution_count": 42,
   "metadata": {},
   "outputs": [
    {
     "name": "stdout",
     "output_type": "stream",
     "text": [
      "training data shape :  (1299, 13) (1299,)\n"
     ]
    }
   ],
   "source": [
    "print(\"training data shape : \", x_test.shape, y_test.shape)"
   ]
  },
  {
   "cell_type": "code",
   "execution_count": 43,
   "metadata": {},
   "outputs": [],
   "source": [
    "wine_model_ridge = RidgeRegressionOls() # Creare ridge regression model\n",
    "\n",
    "wine_model_ridge.fit(x_train, y_train, 0.04) # "
   ]
  },
  {
   "cell_type": "code",
   "execution_count": 44,
   "metadata": {},
   "outputs": [
    {
     "data": {
      "text/plain": [
       "array([10.44262645, -0.01321976, -1.55423499, -0.06682495,  0.57007166,\n",
       "       -0.96153508,  0.90933127, -0.40919876, -5.30181162,  0.12394564,\n",
       "        0.56241178,  2.27766929, -0.10291712,  0.10291712])"
      ]
     },
     "execution_count": 44,
     "metadata": {},
     "output_type": "execute_result"
    }
   ],
   "source": [
    "wine_model_ridge.weights # print weights"
   ]
  },
  {
   "cell_type": "code",
   "execution_count": 45,
   "metadata": {},
   "outputs": [
    {
     "data": {
      "text/plain": [
       "array([5.80603915, 5.46427111, 6.38522089, ..., 6.81745163, 5.27846636,\n",
       "       6.93200773])"
      ]
     },
     "execution_count": 45,
     "metadata": {},
     "output_type": "execute_result"
    }
   ],
   "source": [
    "y_pred_ridge = wine_model_ridge.predict(x_test)\n",
    "y_pred_ridge"
   ]
  },
  {
   "cell_type": "code",
   "execution_count": 46,
   "metadata": {},
   "outputs": [],
   "source": [
    "y_pred_ridge = np.array(y_pred_ridge)\n",
    "y_test_ridge = np.array(y_test)"
   ]
  },
  {
   "cell_type": "code",
   "execution_count": 47,
   "metadata": {},
   "outputs": [
    {
     "data": {
      "text/plain": [
       "3.4643311639111185"
      ]
     },
     "execution_count": 47,
     "metadata": {},
     "output_type": "execute_result"
    }
   ],
   "source": [
    "mse = wine_model_ridge.compute_mse(y_test_ridge, y_pred_ridge)\n",
    "mse"
   ]
  },
  {
   "cell_type": "code",
   "execution_count": 48,
   "metadata": {},
   "outputs": [
    {
     "name": "stdout",
     "output_type": "stream",
     "text": [
      "Best Lambda = 0.046, minimum MSE = 3.448860779236369\n"
     ]
    }
   ],
   "source": [
    "# Finding perfect lambda value\n",
    "model_test = RidgeRegressionOls()\n",
    "perfect_lam = 0\n",
    "min_mse = 100000 \n",
    "lambda_value = []\n",
    "mse_value = []\n",
    "for l in np.arange(0, 1, 0.001):\n",
    "    model_test.fit(x_train, y_train, l)\n",
    "    y_pred_test = np.array(model_test.predict(x_test))\n",
    "    y_test_test = np.array(y_test) \n",
    "    mse_test = model_test.compute_mse(y_test_test, y_pred_test)\n",
    "    lambda_value.append(l)\n",
    "    mse_value.append(mse_test)\n",
    "    if mse_test < min_mse:\n",
    "        min_mse = mse_test\n",
    "        perfect_lam = l\n",
    "\n",
    "print(f\"Best Lambda = {perfect_lam}, minimum MSE = {min_mse}\")"
   ]
  },
  {
   "cell_type": "code",
   "execution_count": 49,
   "metadata": {},
   "outputs": [
    {
     "data": {
      "image/png": "[encoded data removed]",
      "text/plain": [
       "<Figure size 640x480 with 1 Axes>"
      ]
     },
     "metadata": {},
     "output_type": "display_data"
    }
   ],
   "source": [
    "# Plot actual targets vs predictions\n",
    "plt.scatter(y_test_ridge, y_pred_ridge, color=\"blue\", label=\"Actual targets\")\n",
    "# plt.plot(x_test, y_pred, color=\"red\", label=\"Predictions\")\n",
    "plt.xlabel(\"Training data\")\n",
    "plt.ylabel(\"Predication\")\n",
    "plt.title(\"Predictions vs Actual\")\n",
    "plt.show()"
   ]
  },
  {
   "cell_type": "code",
   "execution_count": 50,
   "metadata": {},
   "outputs": [
    {
     "data": {
      "image/png": "[encoded data removed]",
      "text/plain": [
       "<Figure size 640x480 with 1 Axes>"
      ]
     },
     "metadata": {},
     "output_type": "display_data"
    }
   ],
   "source": [
    "plt.scatter(lambda_value, mse_value, color=\"blue\")\n",
    "plt.xlabel(\"Lamda\")\n",
    "plt.ylabel(\"MSE\")\n",
    "plt.title(\"Lambda value vs MSE\")\n",
    "plt.show()"
   ]
  },
  {
   "cell_type": "code",
   "execution_count": 51,
   "metadata": {},
   "outputs": [],
   "source": [
    "# for i in range(20):\n",
    "#     print(y_test_ridge[i], y_pred_ridge[i])"
   ]
  },
  {
   "cell_type": "code",
   "execution_count": 52,
   "metadata": {},
   "outputs": [],
   "source": [
    "# # Save weights as pickle file\n",
    "# import pickle\n",
    "\n",
    "# pickle.dump(wine_model_ridge.weights, open(\"weights.p\", \"wb\" ))\n",
    "\n",
    "# print(\"Weights stores as pickle file\")\n"
   ]
  }
 ],
 "metadata": {
  "kernelspec": {
   "display_name": "Python 3",
   "language": "python",
   "name": "python3"
  },
  "language_info": {
   "codemirror_mode": {
    "name": "ipython",
    "version": 3
   },
   "file_extension": ".py",
   "mimetype": "text/x-python",
   "name": "python",
   "nbconvert_exporter": "python",
   "pygments_lexer": "ipython3",
   "version": "3.12.5"
  }
 },
 "nbformat": 4,
 "nbformat_minor": 2
}
